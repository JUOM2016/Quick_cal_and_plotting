{
 "cells": [
  {
   "cell_type": "code",
   "execution_count": 3,
   "metadata": {},
   "outputs": [],
   "source": [
    "import numpy as np"
   ]
  },
  {
   "cell_type": "code",
   "execution_count": 48,
   "metadata": {},
   "outputs": [
    {
     "name": "stdout",
     "output_type": "stream",
     "text": [
      "606 laser frequency=497.17798 THz\n",
      "606 laser wavelength=602.9882055516618 nm\n",
      "1550 laser wavelength=1562.542617884506 nm\n"
     ]
    }
   ],
   "source": [
    "freq_995= 305.31604*1E12 #300.59295\n",
    "freq_1550=191.86194*1E12 #192.29104\n",
    "freq_606=(freq_995+freq_1550)\n",
    "c=299792458\n",
    "wl_606=c/freq_606\n",
    "print('606 laser frequency='+str(freq_606/1e12)+' THz' )\n",
    "print('606 laser wavelength='+str(wl_606*1e9)+' nm')\n",
    "print('1550 laser wavelength='+str(c/freq_1550*1e9)+' nm')"
   ]
  }
 ],
 "metadata": {
  "kernelspec": {
   "display_name": "Python 3.9.5 64-bit",
   "language": "python",
   "name": "python3"
  },
  "language_info": {
   "codemirror_mode": {
    "name": "ipython",
    "version": 3
   },
   "file_extension": ".py",
   "mimetype": "text/x-python",
   "name": "python",
   "nbconvert_exporter": "python",
   "pygments_lexer": "ipython3",
   "version": "3.9.5"
  },
  "orig_nbformat": 4,
  "vscode": {
   "interpreter": {
    "hash": "c4ece238454c978447e80431fc685af058fe3c0153393b41275a96eb622dfb90"
   }
  }
 },
 "nbformat": 4,
 "nbformat_minor": 2
}
