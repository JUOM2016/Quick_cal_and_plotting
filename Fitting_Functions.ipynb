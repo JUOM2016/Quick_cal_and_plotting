{
 "cells": [
  {
   "cell_type": "code",
   "execution_count": null,
   "metadata": {},
   "outputs": [],
   "source": [
    "import numpy as np\n",
    "from scipy.optimize import curve_fit"
   ]
  },
  {
   "cell_type": "code",
   "execution_count": null,
   "metadata": {},
   "outputs": [],
   "source": [
    "def gaussian(x, height, centre, sigma):\n",
    "    '''Generates Gaussian with given parameters'''\n",
    "    return height * np.exp(-(np.power(x - centre, 2) / (2 * sigma ** 2)))\n",
    "\n",
    "def fitting_gaussian(x,y):\n",
    "    fit_gauss,fit_err=curve_fit(gaussian,x,y)"
   ]
  }
 ],
 "metadata": {
  "kernelspec": {
   "display_name": "Python 3.9.5 64-bit",
   "language": "python",
   "name": "python3"
  },
  "language_info": {
   "name": "python",
   "version": "3.9.5"
  },
  "orig_nbformat": 4,
  "vscode": {
   "interpreter": {
    "hash": "c4ece238454c978447e80431fc685af058fe3c0153393b41275a96eb622dfb90"
   }
  }
 },
 "nbformat": 4,
 "nbformat_minor": 2
}
