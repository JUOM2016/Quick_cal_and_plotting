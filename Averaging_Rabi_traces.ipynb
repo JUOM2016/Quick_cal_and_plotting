{
 "cells": [
  {
   "cell_type": "code",
   "execution_count": null,
   "metadata": {},
   "outputs": [],
   "source": [
    "import os\n",
    "import numpy as np\n",
    "import pandas as pd\n",
    "from natsort import natsorted\n",
    "import matplotlib.pyplot as plt\n",
    "import sys"
   ]
  },
  {
   "cell_type": "code",
   "execution_count": null,
   "metadata": {},
   "outputs": [],
   "source": [
    "dir = 'C:\\\\Users\\\\wj2002\\\\Dropbox (Heriot-Watt University Team)\\\\RES_EPS_Quantum_Photonics_Lab\\\\Experiments\\\\Current Experiments\\\\Broadband telecom quantum memories\\\\2022_PrYVO_Spectroscopy\\\\Infrared\\\\0_1%_Rabi'\n",
    "folder = '20221128'\n",
    "sub_folders = ['RAB11281','RAB11282','RAB11283','RAB11284']\n",
    "\n",
    "num_of_subfolders=np.size(sub_folders)\n",
    "\n",
    "path=dir + '\\\\' + folder + '\\\\' + sub_folders[0] + '\\\\'\n",
    "file_list = os.listdir(path)\n",
    "list_csv=natsorted([i for i in file_list if i.endswith('.CSV')])\n",
    "file_size=np.shape(list_csv)"
   ]
  },
  {
   "cell_type": "code",
   "execution_count": null,
   "metadata": {},
   "outputs": [],
   "source": [
    "for index_0, file_0 in enumerate(sub_folders):\n",
    "    path=dir + '\\\\' + folder + '\\\\' + file_0 + '\\\\'\n",
    "    for index_1, file_1 in enumerate(list_csv):\n",
    "        data=pd.read_csv(os.path.join(path,file_1))\n",
    "        data=data.to_numpy()"
   ]
  }
 ],
 "metadata": {
  "language_info": {
   "name": "python"
  },
  "orig_nbformat": 4
 },
 "nbformat": 4,
 "nbformat_minor": 2
}
